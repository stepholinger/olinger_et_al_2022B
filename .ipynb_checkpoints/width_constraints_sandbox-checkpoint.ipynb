{
 "cells": [
  {
   "cell_type": "code",
   "execution_count": null,
   "id": "8ee0a7cc",
   "metadata": {},
   "outputs": [],
   "source": [
    "import numpy as np\n",
    "import matplotlib.pyplot as plt"
   ]
  },
  {
   "cell_type": "code",
   "execution_count": null,
   "id": "ca39230e",
   "metadata": {},
   "outputs": [],
   "source": [
    "M_dot = (1e-6)*4*np.pi*(4000**3)*910*10000\n",
    "dL = 10500\n",
    "dt = 300\n",
    "mustar = 3e9\n",
    "H = 400\n",
    "dD = M_dot*dt / (2*mustar*H*dL)"
   ]
  },
  {
   "cell_type": "code",
   "execution_count": null,
   "id": "48a2b282",
   "metadata": {},
   "outputs": [],
   "source": [
    "V = dD*dL*(910/1000)*H"
   ]
  },
  {
   "cell_type": "code",
   "execution_count": null,
   "id": "7abadcea",
   "metadata": {},
   "outputs": [],
   "source": [
    "Lmax = 10.5e3\n",
    "\n",
    "mustar = 3e9\n",
    "tmax = 300\n",
    "\n",
    "D_list = np.logspace(-3,1,100)\n",
    "H_list = np.logspace(-1,np.log10(400),50)\n",
    "umax = np.zeros((100,50))\n",
    "\n",
    "for i,Dmax in enumerate(D_list):\n",
    "    for j,H in enumerate(H_list):\n",
    "\n",
    "        t = np.linspace(0,tmax)\n",
    "\n",
    "        dLdt = Lmax/tmax\n",
    "        dDdt = Dmax/tmax\n",
    "\n",
    "        D = dDdt*t\n",
    "        L = dLdt*t\n",
    "        Mdot = mustar * H * ( dLdt * D + dDdt*L )\n",
    "\n",
    "        r = 10e3\n",
    "        alpha = 4000\n",
    "        rho = 900\n",
    "\n",
    "        u = Mdot / (4*np.pi*rho*alpha**3 * r)\n",
    "        umax[i,j] = max(u)\n",
    "\n",
    "c=plt.contourf(H_list,D_list,umax*1e6,cmap='Blues')\n",
    "plt.contour(H_list,D_list,np.log10(umax*1e6),[-2,-1,0],colors='k')\n",
    "plt.colorbar(c)\n",
    "plt.yscale('log')\n",
    "plt.xscale('log')\n",
    "plt.ylabel('Final rift width')\n",
    "plt.xlabel('Ice thickness')\n",
    "plt.grid()\n",
    "plt.show()"
   ]
  }
 ],
 "metadata": {
  "kernelspec": {
   "display_name": "sermeq_env",
   "language": "python",
   "name": "sermeq_env"
  },
  "language_info": {
   "codemirror_mode": {
    "name": "ipython",
    "version": 3
   },
   "file_extension": ".py",
   "mimetype": "text/x-python",
   "name": "python",
   "nbconvert_exporter": "python",
   "pygments_lexer": "ipython3",
   "version": "3.7.13"
  }
 },
 "nbformat": 4,
 "nbformat_minor": 5
}
